{
 "cells": [
  {
   "cell_type": "code",
   "execution_count": 2,
   "id": "8e8c0f8b-e69c-4c92-ba81-7ac4fbad27f8",
   "metadata": {},
   "outputs": [],
   "source": [
    "import numpy as np\n",
    "import matplotlib\n",
    "import matplotlib.pyplot as plt\n",
    "import scipy\n",
    "from scipy import stats\n",
    "from scipy import signal\n",
    "import numpy.random as rnd\n",
    "\n",
    "\n",
    "#this sets the size of the plot to something useful\n",
    "plt.rcParams[\"figure.figsize\"] = (15,10)"
   ]
  },
  {
   "cell_type": "markdown",
   "id": "60379483-c952-471b-a174-b7f0872ba46e",
   "metadata": {},
   "source": [
    "# HW2"
   ]
  },
  {
   "cell_type": "markdown",
   "id": "cf2e21b7-6981-4425-b2ea-1cf6aaa08c4f",
   "metadata": {},
   "source": [
    "1) A little introductory brain teaser. Which is more probable when rolling 2 six-sided dice: rolling snake eyes (two ones) or rolling sevens (dice sum to seven)? What is the ratio of the probabilities?"
   ]
  },
  {
   "cell_type": "code",
   "execution_count": 3,
   "id": "468d0125-848c-48c1-b09c-0166893c36a6",
   "metadata": {},
   "outputs": [
    {
     "name": "stdout",
     "output_type": "stream",
     "text": [
      "The ratio of the probability of rolling snake eyes is 0.027777777777777776.\n",
      "The ratio of the probability of rolling sevens is 0.16666666666666666.\n"
     ]
    }
   ],
   "source": [
    "# and = P(a and b) = P(a)P(b)\n",
    "# or = P(a or B) = P(a) + P(b) + P(a)P(b)\n",
    "#die1 = [1, 2, 3, 4, 5, 6]\n",
    "#die2 = [1, 2, 3, 4, 5, 6]\n",
    "\n",
    "#two = 0\n",
    "#seven = 0\n",
    "\n",
    "#for idx, val in enumerate(die1):\n",
    "#    for jdx, val2 in enumerate(die2):\n",
    "#        outcome = val + val2\n",
    "#        if outcome == 7:\n",
    "#            seven += 1\n",
    "#        elif outcome == 2:\n",
    "#            two += 1\n",
    "\n",
    "#snake_eyes = two/11\n",
    "#sevens = seven/11\n",
    "\n",
    "two_prob = 1/6 * 1/6\n",
    "seven_prob = 6/36\n",
    "\n",
    "\n",
    "print(f'The ratio of the probability of rolling snake eyes is {two_prob}.')\n",
    "print(f'The ratio of the probability of rolling sevens is {seven_prob}.')"
   ]
  },
  {
   "cell_type": "markdown",
   "id": "d5fd4cc6-4343-4b5d-9e03-266296d15b86",
   "metadata": {},
   "source": [
    "2) Following what we did in class show how to use the convolution operator to determine the probability of the sum of 2 six sided dice. Do both analytically (math & counting) and numerically (computer program). Beware the implicit definition of the values (x-axis on histogram)."
   ]
  },
  {
   "cell_type": "code",
   "execution_count": 7,
   "id": "ffc78097-7bf4-483a-9627-19b32e48fb9a",
   "metadata": {},
   "outputs": [
    {
     "data": {
      "text/plain": [
       "array([0.02777778, 0.05555556, 0.08333333, 0.11111111, 0.13888889,\n",
       "       0.16666667, 0.13888889, 0.11111111, 0.08333333, 0.05555556,\n",
       "       0.02777778])"
      ]
     },
     "execution_count": 7,
     "metadata": {},
     "output_type": "execute_result"
    }
   ],
   "source": [
    "#die1 = [1, 2, 3, 4, 5, 6]\n",
    "#die2 = [1/6, 2/6, 3/6, 4/6, 5/6, 6/6]\n",
    "#die2 = [6, 5, 4, 3, 2, 1]\n",
    "\n",
    "d1 = [1/6, 1/6, 1/6, 1/6, 1/6, 1/6]\n",
    "d2 = [1/6, 1/6, 1/6, 1/6, 1/6, 1/6]\n",
    "\n",
    "die1 = [1, 2, 3, 4, 5, 6]\n",
    "die2 = [6, 5, 4, 3, 2, 1]\n",
    "\n",
    "#conv = signal.convolve(die1, die2)\n",
    "conv = signal.convolve(d1, d2)\n",
    "conv #array conv has all the potential probabilities of sums 2 - 12"
   ]
  },
  {
   "cell_type": "code",
   "execution_count": 6,
   "id": "a5a2ee7b-3cae-4345-9efc-fed8ed2a4528",
   "metadata": {},
   "outputs": [
    {
     "data": {
      "text/plain": [
       "0.08333333333333333"
      ]
     },
     "execution_count": 6,
     "metadata": {},
     "output_type": "execute_result"
    }
   ],
   "source": [
    "four_sum_prob = conv[2]\n",
    "four_sum_prob"
   ]
  },
  {
   "cell_type": "markdown",
   "id": "aa9eee61-cfd5-452c-8549-06ea69932691",
   "metadata": {},
   "source": [
    "The probability of the sum of two six sided dice through math and counting would be the amount of combinations that can add up to that sum (N) divided by the total number of combinations (36). For example, to get a sum of 4:"
   ]
  },
  {
   "cell_type": "code",
   "execution_count": 8,
   "id": "d8d835a5-1485-4259-9a8c-99835d26a3a4",
   "metadata": {},
   "outputs": [
    {
     "data": {
      "text/plain": [
       "0.08333333333333333"
      ]
     },
     "execution_count": 8,
     "metadata": {},
     "output_type": "execute_result"
    }
   ],
   "source": [
    "combos_of_four = 3 #(1,3), (2,2), (3,1)\n",
    "sum_prob = combos_of_four/36\n",
    "sum_prob"
   ]
  },
  {
   "cell_type": "markdown",
   "id": "1172a99f-ff78-4deb-8f0e-033d3a23453c",
   "metadata": {},
   "source": [
    "3) Calculate the mean and the variance of the distribution in problem 2. Hint: this is surprisingly tricky, make sure your result makes sense."
   ]
  },
  {
   "cell_type": "code",
   "execution_count": 9,
   "id": "2d7ac06b-1b1e-4a6b-9589-cb6788feb593",
   "metadata": {},
   "outputs": [
    {
     "data": {
      "text/plain": [
       "0.09090909090909091"
      ]
     },
     "execution_count": 9,
     "metadata": {},
     "output_type": "execute_result"
    }
   ],
   "source": [
    "mean = np.mean(conv)\n",
    "mean"
   ]
  },
  {
   "cell_type": "code",
   "execution_count": 10,
   "id": "f5d6bcdd-3988-4619-8222-e79504bb6f8b",
   "metadata": {},
   "outputs": [
    {
     "data": {
      "text/plain": [
       "0.0019768390980512197"
      ]
     },
     "execution_count": 10,
     "metadata": {},
     "output_type": "execute_result"
    }
   ],
   "source": [
    "var = np.var(conv)\n",
    "var"
   ]
  },
  {
   "cell_type": "markdown",
   "id": "34802e6e-5d63-4adb-b81b-1173fc70cb25",
   "metadata": {},
   "source": [
    "4) Repeat 2, and graph the average of 10 dice. Is this is a Gaussian distribution? Explain in depth."
   ]
  },
  {
   "cell_type": "code",
   "execution_count": 15,
   "id": "bc0606f6-45d3-416d-b705-c768e9f86da2",
   "metadata": {},
   "outputs": [],
   "source": [
    "d10_1 = np.full(6, 1/6)\n",
    "d10_2 = np.full(6, 1/6)\n",
    "d10_3 = np.full(6, 1/6)\n",
    "d10_4 = np.full(6, 1/6)\n",
    "d10_5 = np.full(6, 1/6)\n",
    "d10_6 = np.full(6, 1/6)\n",
    "d10_7 = np.full(6, 1/6)\n",
    "d10_8 = np.full(6, 1/6)\n",
    "d10_9 = np.full(6, 1/6)\n",
    "d10_10 = np.full(6, 1/6)"
   ]
  },
  {
   "cell_type": "code",
   "execution_count": 23,
   "id": "d9cd8cd3-361c-42c7-a196-37886f240773",
   "metadata": {},
   "outputs": [
    {
     "data": {
      "text/plain": [
       "array([1.65381717e-08, 1.65381717e-07, 9.09599443e-07, 3.63839777e-06,\n",
       "       1.18247928e-05, 3.31094197e-05, 8.26081676e-05, 1.87542867e-04,\n",
       "       3.92946959e-04, 7.67701930e-04, 1.40951530e-03, 2.44665712e-03,\n",
       "       4.03407353e-03, 6.34189270e-03, 9.53533096e-03, 1.37465945e-02,\n",
       "       1.90415547e-02, 2.53867551e-02, 3.26236936e-02, 4.04573294e-02,\n",
       "       4.84643679e-02, 5.61241048e-02, 6.28704385e-02, 6.81581055e-02,\n",
       "       7.15327194e-02, 7.26928060e-02, 7.15327194e-02, 6.81581055e-02,\n",
       "       6.28704385e-02, 5.61241048e-02, 4.84643679e-02, 4.04573294e-02,\n",
       "       3.26236936e-02, 2.53867551e-02, 1.90415547e-02, 1.37465945e-02,\n",
       "       9.53533096e-03, 6.34189270e-03, 4.03407353e-03, 2.44665712e-03,\n",
       "       1.40951530e-03, 7.67701930e-04, 3.92946959e-04, 1.87542867e-04,\n",
       "       8.26081676e-05, 3.31094197e-05, 1.18247928e-05, 3.63839777e-06,\n",
       "       9.09599443e-07, 1.65381717e-07, 1.65381717e-08])"
      ]
     },
     "execution_count": 23,
     "metadata": {},
     "output_type": "execute_result"
    }
   ],
   "source": [
    "con10_1 = signal.convolve(d10_1, d10_2)\n",
    "#con10_2 = signal.convolve(d10_3, d10_4)\n",
    "#con10_3 = signal.convolve(d10_5, d10_6)\n",
    "#con10_4 = signal.convolve(d10_7, d10_8)\n",
    "#con10_5 = signal.convolve(d10_9, d10_10)\n",
    "con10_2 = signal.convolve(con10_1, d10_3)\n",
    "con10_3 = signal.convolve(con10_2, d10_4)\n",
    "con10_4 = signal.convolve(con10_3, d10_5)\n",
    "con10_5 = signal.convolve(con10_4, d10_6)\n",
    "con10_6 = signal.convolve(con10_5, d10_7)\n",
    "con10_7 = signal.convolve(con10_6, d10_8)\n",
    "con10_8 = signal.convolve(con10_7, d10_9)\n",
    "con10_9 = signal.convolve(con10_8, d10_10)\n",
    "con10_9"
   ]
  },
  {
   "cell_type": "code",
   "execution_count": 25,
   "id": "8ace55d1-8805-4680-a983-21cc0cf5aefd",
   "metadata": {},
   "outputs": [
    {
     "data": {
      "text/plain": [
       "array([10, 11, 12, 13, 14, 15, 16, 17, 18, 19, 20, 21, 22, 23, 24, 25, 26,\n",
       "       27, 28, 29, 30, 31, 32, 33, 34, 35, 36, 37, 38, 39, 40, 41, 42, 43,\n",
       "       44, 45, 46, 47, 48, 49, 50, 51, 52, 53, 54, 55, 56, 57, 58, 59, 60])"
      ]
     },
     "execution_count": 25,
     "metadata": {},
     "output_type": "execute_result"
    }
   ],
   "source": [
    "sums = np.arange(10, 61, 1)\n",
    "sums"
   ]
  },
  {
   "cell_type": "code",
   "execution_count": 28,
   "id": "3834ef99-e095-4773-a275-dd2342a2018e",
   "metadata": {},
   "outputs": [
    {
     "data": {
      "text/plain": [
       "[<matplotlib.lines.Line2D at 0x7f32e9a94610>]"
      ]
     },
     "execution_count": 28,
     "metadata": {},
     "output_type": "execute_result"
    },
    {
     "data": {
      "image/png": "[encoded data removed]",
      "text/plain": [
       "<Figure size 1080x720 with 1 Axes>"
      ]
     },
     "metadata": {
      "needs_background": "light"
     },
     "output_type": "display_data"
    }
   ],
   "source": [
    "fig, ax = plt.subplots(1,1)\n",
    "\n",
    "ax.plot(sums, con10_9)"
   ]
  },
  {
   "cell_type": "markdown",
   "id": "965be61a-c746-417f-8952-ae14020de5b8",
   "metadata": {},
   "source": [
    "This graph has the same bell shape as a gaussian, but it is not because it is still discrete. It is not continuous near where the bell starts to straighten out at the tip. It is approaching becoming a gaussian due to the Central Limit Theorem however."
   ]
  },
  {
   "cell_type": "markdown",
   "id": "54e7e4f5-0b9c-48d7-884b-91f6f17ee499",
   "metadata": {},
   "source": [
    "5) Show that the sum and average of an initially Gaussian distribution is also a Guassian (can be analytic or numerical). How does the standard deviation of the resulting sum or average Guassian change? This is a hugely important result. Explore what this means for integrating a signal over time."
   ]
  },
  {
   "cell_type": "code",
   "execution_count": 32,
   "id": "e9b498cb-ea37-4966-8b1b-eb2b2448a80b",
   "metadata": {},
   "outputs": [
    {
     "data": {
      "text/plain": [
       "[<matplotlib.lines.Line2D at 0x7f32e9a1caf0>]"
      ]
     },
     "execution_count": 32,
     "metadata": {},
     "output_type": "execute_result"
    },
    {
     "data": {
      "image/png": "[encoded data removed]",
      "text/plain": [
       "<Figure size 1080x720 with 1 Axes>"
      ]
     },
     "metadata": {
      "needs_background": "light"
     },
     "output_type": "display_data"
    }
   ],
   "source": [
    "x = np.linspace(stats.norm.ppf(0.01), stats.norm.ppf(0.99), 100)\n",
    "\n",
    "fig, ax = plt.subplots(1,1) \n",
    "ax.plot(x, stats.norm.pdf(x), 'r-', lw=5, alpha=0.6, label='base norm pdf')"
   ]
  },
  {
   "cell_type": "code",
   "execution_count": 33,
   "id": "44af0210-48e2-412c-9bdd-1cd3de41d6ff",
   "metadata": {},
   "outputs": [
    {
     "ename": "ValueError",
     "evalue": "x and y must have same first dimension, but have shapes (100,) and (1,)",
     "output_type": "error",
     "traceback": [
      "\u001b[0;31m---------------------------------------------------------------------------\u001b[0m",
      "\u001b[0;31mValueError\u001b[0m                                Traceback (most recent call last)",
      "\u001b[0;32m<ipython-input-33-3623919dea1c>\u001b[0m in \u001b[0;36m<module>\u001b[0;34m\u001b[0m\n\u001b[0;32m----> 1\u001b[0;31m \u001b[0max\u001b[0m\u001b[0;34m.\u001b[0m\u001b[0mplot\u001b[0m\u001b[0;34m(\u001b[0m\u001b[0mx\u001b[0m\u001b[0;34m,\u001b[0m \u001b[0mnp\u001b[0m\u001b[0;34m.\u001b[0m\u001b[0maverage\u001b[0m\u001b[0;34m(\u001b[0m\u001b[0mstats\u001b[0m\u001b[0;34m.\u001b[0m\u001b[0mnorm\u001b[0m\u001b[0;34m.\u001b[0m\u001b[0mpdf\u001b[0m\u001b[0;34m(\u001b[0m\u001b[0mx\u001b[0m\u001b[0;34m)\u001b[0m\u001b[0;34m)\u001b[0m\u001b[0;34m,\u001b[0m \u001b[0;34m'r-'\u001b[0m\u001b[0;34m,\u001b[0m \u001b[0mlw\u001b[0m\u001b[0;34m=\u001b[0m\u001b[0;36m5\u001b[0m\u001b[0;34m,\u001b[0m \u001b[0malpha\u001b[0m\u001b[0;34m=\u001b[0m\u001b[0;36m0.6\u001b[0m\u001b[0;34m,\u001b[0m \u001b[0mlabel\u001b[0m\u001b[0;34m=\u001b[0m\u001b[0;34m'base norm pdf'\u001b[0m\u001b[0;34m)\u001b[0m\u001b[0;34m\u001b[0m\u001b[0;34m\u001b[0m\u001b[0m\n\u001b[0m",
      "\u001b[0;32m/opt/conda/lib/python3.8/site-packages/matplotlib/axes/_axes.py\u001b[0m in \u001b[0;36mplot\u001b[0;34m(self, scalex, scaley, data, *args, **kwargs)\u001b[0m\n\u001b[1;32m   1603\u001b[0m         \"\"\"\n\u001b[1;32m   1604\u001b[0m         \u001b[0mkwargs\u001b[0m \u001b[0;34m=\u001b[0m \u001b[0mcbook\u001b[0m\u001b[0;34m.\u001b[0m\u001b[0mnormalize_kwargs\u001b[0m\u001b[0;34m(\u001b[0m\u001b[0mkwargs\u001b[0m\u001b[0;34m,\u001b[0m \u001b[0mmlines\u001b[0m\u001b[0;34m.\u001b[0m\u001b[0mLine2D\u001b[0m\u001b[0;34m)\u001b[0m\u001b[0;34m\u001b[0m\u001b[0;34m\u001b[0m\u001b[0m\n\u001b[0;32m-> 1605\u001b[0;31m         \u001b[0mlines\u001b[0m \u001b[0;34m=\u001b[0m \u001b[0;34m[\u001b[0m\u001b[0;34m*\u001b[0m\u001b[0mself\u001b[0m\u001b[0;34m.\u001b[0m\u001b[0m_get_lines\u001b[0m\u001b[0;34m(\u001b[0m\u001b[0;34m*\u001b[0m\u001b[0margs\u001b[0m\u001b[0;34m,\u001b[0m \u001b[0mdata\u001b[0m\u001b[0;34m=\u001b[0m\u001b[0mdata\u001b[0m\u001b[0;34m,\u001b[0m \u001b[0;34m**\u001b[0m\u001b[0mkwargs\u001b[0m\u001b[0;34m)\u001b[0m\u001b[0;34m]\u001b[0m\u001b[0;34m\u001b[0m\u001b[0;34m\u001b[0m\u001b[0m\n\u001b[0m\u001b[1;32m   1606\u001b[0m         \u001b[0;32mfor\u001b[0m \u001b[0mline\u001b[0m \u001b[0;32min\u001b[0m \u001b[0mlines\u001b[0m\u001b[0;34m:\u001b[0m\u001b[0;34m\u001b[0m\u001b[0;34m\u001b[0m\u001b[0m\n\u001b[1;32m   1607\u001b[0m             \u001b[0mself\u001b[0m\u001b[0;34m.\u001b[0m\u001b[0madd_line\u001b[0m\u001b[0;34m(\u001b[0m\u001b[0mline\u001b[0m\u001b[0;34m)\u001b[0m\u001b[0;34m\u001b[0m\u001b[0;34m\u001b[0m\u001b[0m\n",
      "\u001b[0;32m/opt/conda/lib/python3.8/site-packages/matplotlib/axes/_base.py\u001b[0m in \u001b[0;36m__call__\u001b[0;34m(self, data, *args, **kwargs)\u001b[0m\n\u001b[1;32m    313\u001b[0m                 \u001b[0mthis\u001b[0m \u001b[0;34m+=\u001b[0m \u001b[0margs\u001b[0m\u001b[0;34m[\u001b[0m\u001b[0;36m0\u001b[0m\u001b[0;34m]\u001b[0m\u001b[0;34m,\u001b[0m\u001b[0;34m\u001b[0m\u001b[0;34m\u001b[0m\u001b[0m\n\u001b[1;32m    314\u001b[0m                 \u001b[0margs\u001b[0m \u001b[0;34m=\u001b[0m \u001b[0margs\u001b[0m\u001b[0;34m[\u001b[0m\u001b[0;36m1\u001b[0m\u001b[0;34m:\u001b[0m\u001b[0;34m]\u001b[0m\u001b[0;34m\u001b[0m\u001b[0;34m\u001b[0m\u001b[0m\n\u001b[0;32m--> 315\u001b[0;31m             \u001b[0;32myield\u001b[0m \u001b[0;32mfrom\u001b[0m \u001b[0mself\u001b[0m\u001b[0;34m.\u001b[0m\u001b[0m_plot_args\u001b[0m\u001b[0;34m(\u001b[0m\u001b[0mthis\u001b[0m\u001b[0;34m,\u001b[0m \u001b[0mkwargs\u001b[0m\u001b[0;34m)\u001b[0m\u001b[0;34m\u001b[0m\u001b[0;34m\u001b[0m\u001b[0m\n\u001b[0m\u001b[1;32m    316\u001b[0m \u001b[0;34m\u001b[0m\u001b[0m\n\u001b[1;32m    317\u001b[0m     \u001b[0;32mdef\u001b[0m \u001b[0mget_next_color\u001b[0m\u001b[0;34m(\u001b[0m\u001b[0mself\u001b[0m\u001b[0;34m)\u001b[0m\u001b[0;34m:\u001b[0m\u001b[0;34m\u001b[0m\u001b[0;34m\u001b[0m\u001b[0m\n",
      "\u001b[0;32m/opt/conda/lib/python3.8/site-packages/matplotlib/axes/_base.py\u001b[0m in \u001b[0;36m_plot_args\u001b[0;34m(self, tup, kwargs, return_kwargs)\u001b[0m\n\u001b[1;32m    499\u001b[0m \u001b[0;34m\u001b[0m\u001b[0m\n\u001b[1;32m    500\u001b[0m         \u001b[0;32mif\u001b[0m \u001b[0mx\u001b[0m\u001b[0;34m.\u001b[0m\u001b[0mshape\u001b[0m\u001b[0;34m[\u001b[0m\u001b[0;36m0\u001b[0m\u001b[0;34m]\u001b[0m \u001b[0;34m!=\u001b[0m \u001b[0my\u001b[0m\u001b[0;34m.\u001b[0m\u001b[0mshape\u001b[0m\u001b[0;34m[\u001b[0m\u001b[0;36m0\u001b[0m\u001b[0;34m]\u001b[0m\u001b[0;34m:\u001b[0m\u001b[0;34m\u001b[0m\u001b[0;34m\u001b[0m\u001b[0m\n\u001b[0;32m--> 501\u001b[0;31m             raise ValueError(f\"x and y must have same first dimension, but \"\n\u001b[0m\u001b[1;32m    502\u001b[0m                              f\"have shapes {x.shape} and {y.shape}\")\n\u001b[1;32m    503\u001b[0m         \u001b[0;32mif\u001b[0m \u001b[0mx\u001b[0m\u001b[0;34m.\u001b[0m\u001b[0mndim\u001b[0m \u001b[0;34m>\u001b[0m \u001b[0;36m2\u001b[0m \u001b[0;32mor\u001b[0m \u001b[0my\u001b[0m\u001b[0;34m.\u001b[0m\u001b[0mndim\u001b[0m \u001b[0;34m>\u001b[0m \u001b[0;36m2\u001b[0m\u001b[0;34m:\u001b[0m\u001b[0;34m\u001b[0m\u001b[0;34m\u001b[0m\u001b[0m\n",
      "\u001b[0;31mValueError\u001b[0m: x and y must have same first dimension, but have shapes (100,) and (1,)"
     ]
    }
   ],
   "source": [
    "#ax.plot(x, stats.norm.pdf(x), 'r-', lw=5, alpha=0.6, label='base norm pdf')"
   ]
  },
  {
   "cell_type": "code",
   "execution_count": null,
   "id": "d66343de-ddb9-41bd-8af6-7e73eb6dda6b",
   "metadata": {},
   "outputs": [],
   "source": []
  }
 ],
 "metadata": {
  "kernelspec": {
   "display_name": "Python 3",
   "language": "python",
   "name": "python3"
  },
  "language_info": {
   "codemirror_mode": {
    "name": "ipython",
    "version": 3
   },
   "file_extension": ".py",
   "mimetype": "text/x-python",
   "name": "python",
   "nbconvert_exporter": "python",
   "pygments_lexer": "ipython3",
   "version": "3.8.8"
  }
 },
 "nbformat": 4,
 "nbformat_minor": 5
}
