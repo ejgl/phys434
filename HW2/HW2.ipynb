{
 "cells": [
  {
   "cell_type": "code",
   "execution_count": 1,
   "id": "8e8c0f8b-e69c-4c92-ba81-7ac4fbad27f8",
   "metadata": {},
   "outputs": [],
   "source": [
    "import numpy as np\n",
    "import matplotlib\n",
    "import matplotlib.pyplot as plt\n",
    "import scipy\n",
    "from scipy import stats\n",
    "from scipy import signal\n",
    "import numpy.random as rnd\n",
    "\n",
    "\n",
    "#this sets the size of the plot to something useful\n",
    "plt.rcParams[\"figure.figsize\"] = (15,10)"
   ]
  },
  {
   "cell_type": "markdown",
   "id": "57316336-4d0c-4d0f-8d8b-88b2a76478e8",
   "metadata": {},
   "source": [
    "# HW2"
   ]
  },
  {
   "cell_type": "markdown",
   "id": "cf2e21b7-6981-4425-b2ea-1cf6aaa08c4f",
   "metadata": {},
   "source": [
    "1) A little introductory brain teaser. Which is more probable when rolling 2 six-sided dice: rolling snake eyes (two ones) or rolling sevens (dice sum to seven)? What is the ratio of the probabilities?"
   ]
  },
  {
   "cell_type": "code",
   "execution_count": 2,
   "id": "468d0125-848c-48c1-b09c-0166893c36a6",
   "metadata": {},
   "outputs": [
    {
     "name": "stdout",
     "output_type": "stream",
     "text": [
      "The ratio of the probability of rolling snake eyes is 0.027777777777777776.\n",
      "The ratio of the probability of rolling sevens is 0.16666666666666666.\n"
     ]
    }
   ],
   "source": [
    "# and = P(a and b) = P(a)P(b)\n",
    "# or = P(a or B) = P(a) + P(b) + P(a)P(b)\n",
    "#die1 = [1, 2, 3, 4, 5, 6]\n",
    "#die2 = [1, 2, 3, 4, 5, 6]\n",
    "\n",
    "#two = 0\n",
    "#seven = 0\n",
    "\n",
    "#for idx, val in enumerate(die1):\n",
    "#    for jdx, val2 in enumerate(die2):\n",
    "#        outcome = val + val2\n",
    "#        if outcome == 7:\n",
    "#            seven += 1\n",
    "#        elif outcome == 2:\n",
    "#            two += 1\n",
    "\n",
    "#snake_eyes = two/11\n",
    "#sevens = seven/11\n",
    "\n",
    "two_prob = 1/6 * 1/6\n",
    "seven_prob = 6/36\n",
    "\n",
    "\n",
    "print(f'The ratio of the probability of rolling snake eyes is {two_prob}.')\n",
    "print(f'The ratio of the probability of rolling sevens is {seven_prob}.')"
   ]
  },
  {
   "cell_type": "markdown",
   "id": "d5fd4cc6-4343-4b5d-9e03-266296d15b86",
   "metadata": {},
   "source": [
    "2) Following what we did in class show how to use the convolution operator to determine the probability of the sum of 2 six sided dice. Do both analytically (math & counting) and numerically (computer program). Beware the implicit definition of the values (x-axis on histogram)."
   ]
  },
  {
   "cell_type": "code",
   "execution_count": 3,
   "id": "ffc78097-7bf4-483a-9627-19b32e48fb9a",
   "metadata": {},
   "outputs": [
    {
     "data": {
      "text/plain": [
       "array([0.02777778, 0.05555556, 0.08333333, 0.11111111, 0.13888889,\n",
       "       0.16666667, 0.13888889, 0.11111111, 0.08333333, 0.05555556,\n",
       "       0.02777778])"
      ]
     },
     "execution_count": 3,
     "metadata": {},
     "output_type": "execute_result"
    }
   ],
   "source": [
    "#die1 = [1, 2, 3, 4, 5, 6]\n",
    "#die2 = [1/6, 2/6, 3/6, 4/6, 5/6, 6/6]\n",
    "#die2 = [6, 5, 4, 3, 2, 1]\n",
    "\n",
    "d1 = [1/6, 1/6, 1/6, 1/6, 1/6, 1/6]\n",
    "d2 = [1/6, 1/6, 1/6, 1/6, 1/6, 1/6]\n",
    "\n",
    "die1 = [1, 2, 3, 4, 5, 6]\n",
    "die2 = [6, 5, 4, 3, 2, 1]\n",
    "\n",
    "#conv = signal.convolve(die1, die2)\n",
    "conv = signal.convolve(d1, d2)\n",
    "conv #array conv has all the potential probabilities of sums 2 - 12"
   ]
  },
  {
   "cell_type": "code",
   "execution_count": 4,
   "id": "a5a2ee7b-3cae-4345-9efc-fed8ed2a4528",
   "metadata": {},
   "outputs": [
    {
     "data": {
      "text/plain": [
       "0.08333333333333333"
      ]
     },
     "execution_count": 4,
     "metadata": {},
     "output_type": "execute_result"
    }
   ],
   "source": [
    "four_sum_prob = conv[2]\n",
    "four_sum_prob"
   ]
  },
  {
   "cell_type": "markdown",
   "id": "aa9eee61-cfd5-452c-8549-06ea69932691",
   "metadata": {},
   "source": [
    "The probability of the sum of two six sided dice through math and counting would be the amount of combinations that can add up to that sum (N) divided by the total number of combinations (36). For example, to get a sum of 4:"
   ]
  },
  {
   "cell_type": "code",
   "execution_count": 5,
   "id": "d8d835a5-1485-4259-9a8c-99835d26a3a4",
   "metadata": {},
   "outputs": [
    {
     "data": {
      "text/plain": [
       "0.08333333333333333"
      ]
     },
     "execution_count": 5,
     "metadata": {},
     "output_type": "execute_result"
    }
   ],
   "source": [
    "combos_of_four = 3 #(1,3), (2,2), (3,1)\n",
    "sum_prob = combos_of_four/36\n",
    "sum_prob"
   ]
  },
  {
   "cell_type": "markdown",
   "id": "1172a99f-ff78-4deb-8f0e-033d3a23453c",
   "metadata": {},
   "source": [
    "3) Calculate the mean and the variance of the distribution in problem 2. Hint: this is surprisingly tricky, make sure your result makes sense."
   ]
  },
  {
   "cell_type": "code",
   "execution_count": 8,
   "id": "2d7ac06b-1b1e-4a6b-9589-cb6788feb593",
   "metadata": {},
   "outputs": [
    {
     "data": {
      "text/plain": [
       "7.0"
      ]
     },
     "execution_count": 8,
     "metadata": {},
     "output_type": "execute_result"
    }
   ],
   "source": [
    "distro = np.arange(2, 13, 1)\n",
    "\n",
    "mean = np.mean(distro)\n",
    "mean"
   ]
  },
  {
   "cell_type": "code",
   "execution_count": 9,
   "id": "f5d6bcdd-3988-4619-8222-e79504bb6f8b",
   "metadata": {},
   "outputs": [
    {
     "data": {
      "text/plain": [
       "10.0"
      ]
     },
     "execution_count": 9,
     "metadata": {},
     "output_type": "execute_result"
    }
   ],
   "source": [
    "var = np.var(distro)\n",
    "var"
   ]
  },
  {
   "cell_type": "markdown",
   "id": "34802e6e-5d63-4adb-b81b-1173fc70cb25",
   "metadata": {},
   "source": [
    "4) Repeat 2, and graph the average of 10 dice. Is this is a Gaussian distribution? Explain in depth."
   ]
  },
  {
   "cell_type": "code",
   "execution_count": null,
   "id": "bc0606f6-45d3-416d-b705-c768e9f86da2",
   "metadata": {},
   "outputs": [],
   "source": [
    "d10_1 = np.full(6, 1/6)\n",
    "d10_2 = np.full(6, 1/6)\n",
    "d10_3 = np.full(6, 1/6)\n",
    "d10_4 = np.full(6, 1/6)\n",
    "d10_5 = np.full(6, 1/6)\n",
    "d10_6 = np.full(6, 1/6)\n",
    "d10_7 = np.full(6, 1/6)\n",
    "d10_8 = np.full(6, 1/6)\n",
    "d10_9 = np.full(6, 1/6)\n",
    "d10_10 = np.full(6, 1/6)"
   ]
  },
  {
   "cell_type": "code",
   "execution_count": null,
   "id": "d9cd8cd3-361c-42c7-a196-37886f240773",
   "metadata": {},
   "outputs": [],
   "source": [
    "con10_1 = signal.convolve(d10_1, d10_2)\n",
    "#con10_2 = signal.convolve(d10_3, d10_4)\n",
    "#con10_3 = signal.convolve(d10_5, d10_6)\n",
    "#con10_4 = signal.convolve(d10_7, d10_8)\n",
    "#con10_5 = signal.convolve(d10_9, d10_10)\n",
    "con10_2 = signal.convolve(con10_1, d10_3)\n",
    "con10_3 = signal.convolve(con10_2, d10_4)\n",
    "con10_4 = signal.convolve(con10_3, d10_5)\n",
    "con10_5 = signal.convolve(con10_4, d10_6)\n",
    "con10_6 = signal.convolve(con10_5, d10_7)\n",
    "con10_7 = signal.convolve(con10_6, d10_8)\n",
    "con10_8 = signal.convolve(con10_7, d10_9)\n",
    "con10_9 = signal.convolve(con10_8, d10_10)\n",
    "con10_9"
   ]
  },
  {
   "cell_type": "code",
   "execution_count": null,
   "id": "8ace55d1-8805-4680-a983-21cc0cf5aefd",
   "metadata": {},
   "outputs": [],
   "source": [
    "sums = np.arange(10, 61, 1)\n",
    "sums"
   ]
  },
  {
   "cell_type": "code",
   "execution_count": null,
   "id": "3834ef99-e095-4773-a275-dd2342a2018e",
   "metadata": {},
   "outputs": [],
   "source": [
    "fig, ax = plt.subplots(1,1)\n",
    "\n",
    "ax.plot(sums, con10_9)"
   ]
  },
  {
   "cell_type": "markdown",
   "id": "965be61a-c746-417f-8952-ae14020de5b8",
   "metadata": {},
   "source": [
    "This graph has the same bell shape as a gaussian, but it is not because it is still appearing to be discrete near the top of the graph. It is not continuous near where the bell starts to straighten out at the tip. It is approaching becoming a gaussian due to the Central Limit Theorem however, if more dice were to be rolled, the distribution would even out and become continuous."
   ]
  },
  {
   "cell_type": "markdown",
   "id": "54e7e4f5-0b9c-48d7-884b-91f6f17ee499",
   "metadata": {},
   "source": [
    "5) Show that the sum and average of an initially Gaussian distribution is also a Guassian (can be analytic or numerical). How does the standard deviation of the resulting sum or average Guassian change? This is a hugely important result. Explore what this means for integrating a signal over time."
   ]
  },
  {
   "cell_type": "code",
   "execution_count": null,
   "id": "e9b498cb-ea37-4966-8b1b-eb2b2448a80b",
   "metadata": {},
   "outputs": [],
   "source": [
    "x = np.linspace(stats.norm.ppf(0.01), stats.norm.ppf(0.99), 100)\n",
    "\n",
    "fig, ax = plt.subplots(1,1) \n",
    "ax.plot(x, stats.norm.pdf(x), 'r-', lw=5, alpha=0.6, label='base norm pdf')\n",
    "plt.legend()"
   ]
  },
  {
   "cell_type": "code",
   "execution_count": null,
   "id": "44af0210-48e2-412c-9bdd-1cd3de41d6ff",
   "metadata": {},
   "outputs": [],
   "source": [
    "#x2 = np.linspace(stats.norm.ppf(0.01), stats.norm.ppf(0.99), 199)\n",
    "g = stats.norm.pdf(x)\n",
    "conv_gauss = signal.convolve(g, g)\n",
    "x2 = np.linspace(stats.norm.ppf(0.01), stats.norm.ppf(0.99), len(conv_gauss))\n",
    "\n",
    "plt.plot(x2, conv_gauss, 'b-', lw=5, alpha=0.6, label='sum norm pdf')\n",
    "plt.legend()"
   ]
  },
  {
   "cell_type": "code",
   "execution_count": null,
   "id": "d66343de-ddb9-41bd-8af6-7e73eb6dda6b",
   "metadata": {},
   "outputs": [],
   "source": [
    "x_avg = x2 / len(conv_gauss)\n",
    "plt.plot(x_avg, conv_gauss/len(conv_gauss), 'g-', lw=5, alpha=0.6, label='avg norm pdf')\n",
    "plt.legend()"
   ]
  },
  {
   "cell_type": "markdown",
   "id": "5388767d-b554-4f57-8a6f-7ce8839e889f",
   "metadata": {},
   "source": [
    "The sums and the average of the Gaussian remain to be Gaussian."
   ]
  },
  {
   "cell_type": "code",
   "execution_count": null,
   "id": "f566d4da-68d9-49d3-a260-d25dd403a7c4",
   "metadata": {},
   "outputs": [],
   "source": [
    "norm_std = np.std(g)\n",
    "norm_std"
   ]
  },
  {
   "cell_type": "code",
   "execution_count": null,
   "id": "bf1315c3-f865-4819-bfc1-bfe81327a4fb",
   "metadata": {},
   "outputs": [],
   "source": [
    "conv_std = np.std(conv_gauss)\n",
    "conv_std"
   ]
  },
  {
   "cell_type": "code",
   "execution_count": null,
   "id": "7ab11f71-d3e7-4e1d-a3e1-2b05f4b2c0e8",
   "metadata": {},
   "outputs": [],
   "source": [
    "avg_std = np.std(conv_gauss/len(conv_gauss))\n",
    "avg_std"
   ]
  },
  {
   "cell_type": "markdown",
   "id": "4420cc48-31b9-4c18-bfc3-143ad95c47ac",
   "metadata": {},
   "source": [
    "The standard deviation of the sum compared to the base gaussian is larger than its base standard deviation. What this means for integrating a signal over time is that as you sum up the area under the curve of the gaussian, the distance between each sum grows as the sum of the gaussian reaches the top of the bell."
   ]
  },
  {
   "cell_type": "code",
   "execution_count": null,
   "id": "4eb6e280-e6ff-4433-8cf6-a54db485aadb",
   "metadata": {},
   "outputs": [],
   "source": []
  }
 ],
 "metadata": {
  "kernelspec": {
   "display_name": "Python 3",
   "language": "python",
   "name": "python3"
  },
  "language_info": {
   "codemirror_mode": {
    "name": "ipython",
    "version": 3
   },
   "file_extension": ".py",
   "mimetype": "text/x-python",
   "name": "python",
   "nbconvert_exporter": "python",
   "pygments_lexer": "ipython3",
   "version": "3.8.8"
  }
 },
 "nbformat": 4,
 "nbformat_minor": 5
}
