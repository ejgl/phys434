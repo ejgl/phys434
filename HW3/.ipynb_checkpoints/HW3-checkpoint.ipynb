{
 "cells": [
  {
   "cell_type": "code",
   "execution_count": 2,
   "id": "f1ec7c85-5ef5-47bd-8f18-59482d39500b",
   "metadata": {},
   "outputs": [],
   "source": [
    "import numpy as np\n",
    "import matplotlib\n",
    "import matplotlib.pyplot as plt\n",
    "import scipy\n",
    "from scipy import stats\n",
    "from scipy import signal\n",
    "import numpy.random as rnd\n",
    "import pandas as pd"
   ]
  },
  {
   "cell_type": "markdown",
   "id": "ca477cc1-03de-4c68-a1d0-070c71c60c44",
   "metadata": {},
   "source": [
    "# HW 3"
   ]
  },
  {
   "cell_type": "markdown",
   "id": "df226348-90c3-42c2-add9-cfe7b798f4d3",
   "metadata": {},
   "source": [
    "## Problem 1"
   ]
  },
  {
   "cell_type": "markdown",
   "id": "4af87d0e-5500-4f32-9315-0973ad90d410",
   "metadata": {},
   "source": [
    "1a) Which algorithm makes the fewest mistakes?"
   ]
  },
  {
   "cell_type": "markdown",
   "id": "3a395c4c-0daf-424c-81f3-a64e8994b943",
   "metadata": {},
   "source": [
    "Technically, Algorithm NN would make the fewest mistakes, as NN makes a total of 8 mistakes while NA makes a total of 12 mistakes."
   ]
  },
  {
   "cell_type": "markdown",
   "id": "2b823b69-5244-4b76-a173-ef5971464306",
   "metadata": {},
   "source": [
    "1b) Which algorithm is better for the zoo? Explain."
   ]
  },
  {
   "cell_type": "markdown",
   "id": "95b7ba05-2e26-46fe-81b0-8dbb19b5f416",
   "metadata": {},
   "source": [
    "The algorithm that's better for the zoo would be Algorithm NA, as that algorithm has less person misidentifications."
   ]
  },
  {
   "cell_type": "markdown",
   "id": "858a8af3-7ef8-4351-9e7c-ea71b1c2cff4",
   "metadata": {},
   "source": [
    "1c) During the pandemic the number of visitors plummets, and it is only the zoo keeper visiting. So instead of 52% of the photos taken at the aviary door being people, it is now only 1%. Make new truth tables for both algorithms."
   ]
  },
  {
   "cell_type": "markdown",
   "id": "8030e36e-a862-447f-b7bc-75172bf8a5ad",
   "metadata": {},
   "source": [
    "Now there are 99 pictures of birds and 1 picture of people. Therefore the new truth tables are:"
   ]
  },
  {
   "cell_type": "code",
   "execution_count": 7,
   "id": "cbe17873-f0ea-4a51-8cb1-fd8cdf8e8351",
   "metadata": {},
   "outputs": [
    {
     "data": {
      "text/html": [
       "<div>\n",
       "<style scoped>\n",
       "    .dataframe tbody tr th:only-of-type {\n",
       "        vertical-align: middle;\n",
       "    }\n",
       "\n",
       "    .dataframe tbody tr th {\n",
       "        vertical-align: top;\n",
       "    }\n",
       "\n",
       "    .dataframe thead th {\n",
       "        text-align: right;\n",
       "    }\n",
       "</style>\n",
       "<table border=\"1\" class=\"dataframe\">\n",
       "  <thead>\n",
       "    <tr style=\"text-align: right;\">\n",
       "      <th></th>\n",
       "      <th>True Bird</th>\n",
       "      <th>True Person</th>\n",
       "    </tr>\n",
       "  </thead>\n",
       "  <tbody>\n",
       "    <tr>\n",
       "      <th>NN Bird</th>\n",
       "      <td>92</td>\n",
       "      <td>0</td>\n",
       "    </tr>\n",
       "    <tr>\n",
       "      <th>NN Person</th>\n",
       "      <td>7</td>\n",
       "      <td>1</td>\n",
       "    </tr>\n",
       "  </tbody>\n",
       "</table>\n",
       "</div>"
      ],
      "text/plain": [
       "           True Bird  True Person\n",
       "NN Bird           92            0\n",
       "NN Person          7            1"
      ]
     },
     "execution_count": 7,
     "metadata": {},
     "output_type": "execute_result"
    }
   ],
   "source": [
    "NN_false_bird = 3/45\n",
    "NN_pan_false_bird = round(99 * NN_false_bird)\n",
    "NN_pan_true_bird = 99 - NN_pan_false_bird\n",
    "\n",
    "NN_false_person = 5/52\n",
    "NN_pan_false_person = round(NN_false_person)\n",
    "NN_pan_true_person = 1 - NN_pan_false_person\n",
    "\n",
    "NN_pandemic = {'True Bird':[NN_pan_true_bird, NN_pan_false_bird], \n",
    "               'True Person':[NN_pan_false_person, NN_pan_true_person]}\n",
    "\n",
    "NN_pan_df = pd.DataFrame(NN_pandemic)\n",
    "NN_pan_df.index = ['NN Bird', 'NN Person']\n",
    "NN_pan_df"
   ]
  },
  {
   "cell_type": "code",
   "execution_count": 9,
   "id": "b73bf23d-22e8-47e5-8f4c-1e51ea81a6c3",
   "metadata": {},
   "outputs": [
    {
     "data": {
      "text/html": [
       "<div>\n",
       "<style scoped>\n",
       "    .dataframe tbody tr th:only-of-type {\n",
       "        vertical-align: middle;\n",
       "    }\n",
       "\n",
       "    .dataframe tbody tr th {\n",
       "        vertical-align: top;\n",
       "    }\n",
       "\n",
       "    .dataframe thead th {\n",
       "        text-align: right;\n",
       "    }\n",
       "</style>\n",
       "<table border=\"1\" class=\"dataframe\">\n",
       "  <thead>\n",
       "    <tr style=\"text-align: right;\">\n",
       "      <th></th>\n",
       "      <th>True Bird</th>\n",
       "      <th>True Person</th>\n",
       "    </tr>\n",
       "  </thead>\n",
       "  <tbody>\n",
       "    <tr>\n",
       "      <th>NA Bird</th>\n",
       "      <td>97</td>\n",
       "      <td>0</td>\n",
       "    </tr>\n",
       "    <tr>\n",
       "      <th>NA Person</th>\n",
       "      <td>2</td>\n",
       "      <td>1</td>\n",
       "    </tr>\n",
       "  </tbody>\n",
       "</table>\n",
       "</div>"
      ],
      "text/plain": [
       "           True Bird  True Person\n",
       "NA Bird           97            0\n",
       "NA Person          2            1"
      ]
     },
     "execution_count": 9,
     "metadata": {},
     "output_type": "execute_result"
    }
   ],
   "source": [
    "NA_false_bird = 1/47\n",
    "NA_pan_false_bird = round(99 * NA_false_bird)\n",
    "NA_pan_true_bird = 99 - NA_pan_false_bird\n",
    "\n",
    "NA_false_person = 11/42\n",
    "NA_pan_false_person = round(NA_false_person)\n",
    "NA_pan_true_person = 1 - NA_pan_false_person\n",
    "\n",
    "NA_pandemic = {'True Bird':[NA_pan_true_bird, NA_pan_false_bird], \n",
    "               'True Person':[NA_pan_false_person, NA_pan_true_person]}\n",
    "\n",
    "NA_pan_df = pd.DataFrame(NA_pandemic)\n",
    "NA_pan_df.index = ['NA Bird', 'NA Person']\n",
    "NA_pan_df"
   ]
  },
  {
   "cell_type": "markdown",
   "id": "e9c172c0-729a-4c22-98fa-f0a749a7d6ad",
   "metadata": {},
   "source": [
    "## Problem #2"
   ]
  },
  {
   "cell_type": "markdown",
   "id": "9264a756-303e-4371-94cb-000244dca7db",
   "metadata": {},
   "source": [
    "2a) What is the pdf of the sum of two identical exponential distributions?"
   ]
  },
  {
   "cell_type": "markdown",
   "id": "e930aa04-9961-4ce9-bb67-fbc6f984772e",
   "metadata": {},
   "source": [
    "The pdf of the sum of two identical exponential distributions can be found by first looking in the Wikipedia page for exponential distributions. In the section \"Sum of two independent exponential random variables\", The PDF of the sum of two exponential random variables is: $\\lambda^{2}ze^{-\\lambda z}$ if the two $\\lambda$ parameters are equal, which they should be if the two distributions are identical."
   ]
  },
  {
   "cell_type": "markdown",
   "id": "bf3877fc-f1b0-49de-bf88-97cd5121c322",
   "metadata": {},
   "source": [
    "2b) What is the pdf of the ratio of two zero-mean unity variance normal distributions  X1/X2 ?"
   ]
  },
  {
   "cell_type": "markdown",
   "id": "00e090cf-d33c-40c4-80b5-69858871c288",
   "metadata": {},
   "source": [
    "Reading through the Wikipedia page for normal distributions, I came along the case of operations on two standard normal variables X1 and X2, which shows that X1/X2 would be equal to the standard Cauchy distribution. So the pdf of the ratio of X1/X2 would be the pdf of the standard Cauchy distribution."
   ]
  },
  {
   "cell_type": "markdown",
   "id": "ba8ab1b0-451b-49e0-b07c-68e090b30459",
   "metadata": {},
   "source": [
    "2c) So far we have looked at 1D probability distributions, but it is possible to have a multi-dimensional vector distribution. A simple first introduction is the 2D Guassian; it looks like a smeared spot. Mathematically this is given by  Xi^+Yj^  where both  X  and  Y  are drawn from 1D Gaussian distributions. If I measure the amplitude of this vector, what is its pdf? (Hint, the amplitude is always positive.)"
   ]
  },
  {
   "cell_type": "markdown",
   "id": "02a4c0b1-8480-4949-a15c-4eab0fa3f8a0",
   "metadata": {},
   "source": [
    "If you measure the amplitude of Xi + Yj and take it's pdf, you should get the pdf of the sum of X and Y."
   ]
  },
  {
   "cell_type": "code",
   "execution_count": null,
   "id": "d94a3edd-8880-40e9-8001-f9468b15a314",
   "metadata": {},
   "outputs": [],
   "source": []
  }
 ],
 "metadata": {
  "kernelspec": {
   "display_name": "Python 3",
   "language": "python",
   "name": "python3"
  },
  "language_info": {
   "codemirror_mode": {
    "name": "ipython",
    "version": 3
   },
   "file_extension": ".py",
   "mimetype": "text/x-python",
   "name": "python",
   "nbconvert_exporter": "python",
   "pygments_lexer": "ipython3",
   "version": "3.8.8"
  }
 },
 "nbformat": 4,
 "nbformat_minor": 5
}
